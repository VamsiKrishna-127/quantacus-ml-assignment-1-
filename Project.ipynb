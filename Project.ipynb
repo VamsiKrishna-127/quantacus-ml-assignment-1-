{
 "cells": [
  {
   "cell_type": "markdown",
   "id": "c90cc986-3bfd-4f3c-b3fd-e4cac6d306e9",
   "metadata": {},
   "source": [
    "# Import necessary libraries"
   ]
  },
  {
   "cell_type": "code",
   "execution_count": 2,
   "id": "a00f6348-98bb-4b51-bea9-a6b65cd5f5f1",
   "metadata": {},
   "outputs": [],
   "source": [
    "import pandas as pd\n",
    "import numpy as np \n",
    "import matplotlib.pyplot as plt\n",
    "import seaborn as sns"
   ]
  },
  {
   "cell_type": "markdown",
   "id": "c3c39392-2d93-44e6-8272-45618d980b2d",
   "metadata": {},
   "source": [
    "# Loading data"
   ]
  },
  {
   "cell_type": "code",
   "execution_count": 4,
   "id": "6730fdf0-8fc9-48d1-962c-260021eb8a0c",
   "metadata": {},
   "outputs": [],
   "source": [
    "email_opened_table= pd.read_csv(\"email_opened_table.csv\")\n",
    "email_table = pd.read_csv(\"email_table.csv\")\n",
    "link_clicked_table = pd.read_csv(\"link_clicked_table.csv\")"
   ]
  },
  {
   "cell_type": "code",
   "execution_count": 5,
   "id": "5ca6efe4-e592-479e-b0ce-b58853199b0d",
   "metadata": {},
   "outputs": [
    {
     "data": {
      "text/html": [
       "<div>\n",
       "<style scoped>\n",
       "    .dataframe tbody tr th:only-of-type {\n",
       "        vertical-align: middle;\n",
       "    }\n",
       "\n",
       "    .dataframe tbody tr th {\n",
       "        vertical-align: top;\n",
       "    }\n",
       "\n",
       "    .dataframe thead th {\n",
       "        text-align: right;\n",
       "    }\n",
       "</style>\n",
       "<table border=\"1\" class=\"dataframe\">\n",
       "  <thead>\n",
       "    <tr style=\"text-align: right;\">\n",
       "      <th></th>\n",
       "      <th>email_id</th>\n",
       "    </tr>\n",
       "  </thead>\n",
       "  <tbody>\n",
       "    <tr>\n",
       "      <th>0</th>\n",
       "      <td>284534</td>\n",
       "    </tr>\n",
       "    <tr>\n",
       "      <th>1</th>\n",
       "      <td>609056</td>\n",
       "    </tr>\n",
       "    <tr>\n",
       "      <th>2</th>\n",
       "      <td>220820</td>\n",
       "    </tr>\n",
       "    <tr>\n",
       "      <th>3</th>\n",
       "      <td>905936</td>\n",
       "    </tr>\n",
       "    <tr>\n",
       "      <th>4</th>\n",
       "      <td>164034</td>\n",
       "    </tr>\n",
       "  </tbody>\n",
       "</table>\n",
       "</div>"
      ],
      "text/plain": [
       "   email_id\n",
       "0    284534\n",
       "1    609056\n",
       "2    220820\n",
       "3    905936\n",
       "4    164034"
      ]
     },
     "execution_count": 5,
     "metadata": {},
     "output_type": "execute_result"
    }
   ],
   "source": [
    "email_opened_table.head()"
   ]
  },
  {
   "cell_type": "code",
   "execution_count": 6,
   "id": "9fc289cd-96fc-4f02-b0ce-c5b2b886167d",
   "metadata": {},
   "outputs": [
    {
     "data": {
      "text/html": [
       "<div>\n",
       "<style scoped>\n",
       "    .dataframe tbody tr th:only-of-type {\n",
       "        vertical-align: middle;\n",
       "    }\n",
       "\n",
       "    .dataframe tbody tr th {\n",
       "        vertical-align: top;\n",
       "    }\n",
       "\n",
       "    .dataframe thead th {\n",
       "        text-align: right;\n",
       "    }\n",
       "</style>\n",
       "<table border=\"1\" class=\"dataframe\">\n",
       "  <thead>\n",
       "    <tr style=\"text-align: right;\">\n",
       "      <th></th>\n",
       "      <th>email_id</th>\n",
       "      <th>email_text</th>\n",
       "      <th>email_version</th>\n",
       "      <th>hour</th>\n",
       "      <th>weekday</th>\n",
       "      <th>user_country</th>\n",
       "      <th>user_past_purchases</th>\n",
       "    </tr>\n",
       "  </thead>\n",
       "  <tbody>\n",
       "    <tr>\n",
       "      <th>0</th>\n",
       "      <td>85120</td>\n",
       "      <td>short_email</td>\n",
       "      <td>personalized</td>\n",
       "      <td>2</td>\n",
       "      <td>Sunday</td>\n",
       "      <td>US</td>\n",
       "      <td>5</td>\n",
       "    </tr>\n",
       "    <tr>\n",
       "      <th>1</th>\n",
       "      <td>966622</td>\n",
       "      <td>long_email</td>\n",
       "      <td>personalized</td>\n",
       "      <td>12</td>\n",
       "      <td>Sunday</td>\n",
       "      <td>UK</td>\n",
       "      <td>2</td>\n",
       "    </tr>\n",
       "    <tr>\n",
       "      <th>2</th>\n",
       "      <td>777221</td>\n",
       "      <td>long_email</td>\n",
       "      <td>personalized</td>\n",
       "      <td>11</td>\n",
       "      <td>Wednesday</td>\n",
       "      <td>US</td>\n",
       "      <td>2</td>\n",
       "    </tr>\n",
       "    <tr>\n",
       "      <th>3</th>\n",
       "      <td>493711</td>\n",
       "      <td>short_email</td>\n",
       "      <td>generic</td>\n",
       "      <td>6</td>\n",
       "      <td>Monday</td>\n",
       "      <td>UK</td>\n",
       "      <td>1</td>\n",
       "    </tr>\n",
       "    <tr>\n",
       "      <th>4</th>\n",
       "      <td>106887</td>\n",
       "      <td>long_email</td>\n",
       "      <td>generic</td>\n",
       "      <td>14</td>\n",
       "      <td>Monday</td>\n",
       "      <td>US</td>\n",
       "      <td>6</td>\n",
       "    </tr>\n",
       "  </tbody>\n",
       "</table>\n",
       "</div>"
      ],
      "text/plain": [
       "   email_id   email_text email_version  hour    weekday user_country  \\\n",
       "0     85120  short_email  personalized     2     Sunday           US   \n",
       "1    966622   long_email  personalized    12     Sunday           UK   \n",
       "2    777221   long_email  personalized    11  Wednesday           US   \n",
       "3    493711  short_email       generic     6     Monday           UK   \n",
       "4    106887   long_email       generic    14     Monday           US   \n",
       "\n",
       "   user_past_purchases  \n",
       "0                    5  \n",
       "1                    2  \n",
       "2                    2  \n",
       "3                    1  \n",
       "4                    6  "
      ]
     },
     "execution_count": 6,
     "metadata": {},
     "output_type": "execute_result"
    }
   ],
   "source": [
    "email_table.head()"
   ]
  },
  {
   "cell_type": "code",
   "execution_count": 7,
   "id": "67106232-4370-463e-a20e-24e5e073eb73",
   "metadata": {},
   "outputs": [
    {
     "data": {
      "text/html": [
       "<div>\n",
       "<style scoped>\n",
       "    .dataframe tbody tr th:only-of-type {\n",
       "        vertical-align: middle;\n",
       "    }\n",
       "\n",
       "    .dataframe tbody tr th {\n",
       "        vertical-align: top;\n",
       "    }\n",
       "\n",
       "    .dataframe thead th {\n",
       "        text-align: right;\n",
       "    }\n",
       "</style>\n",
       "<table border=\"1\" class=\"dataframe\">\n",
       "  <thead>\n",
       "    <tr style=\"text-align: right;\">\n",
       "      <th></th>\n",
       "      <th>email_id</th>\n",
       "    </tr>\n",
       "  </thead>\n",
       "  <tbody>\n",
       "    <tr>\n",
       "      <th>0</th>\n",
       "      <td>609056</td>\n",
       "    </tr>\n",
       "    <tr>\n",
       "      <th>1</th>\n",
       "      <td>870980</td>\n",
       "    </tr>\n",
       "    <tr>\n",
       "      <th>2</th>\n",
       "      <td>935124</td>\n",
       "    </tr>\n",
       "    <tr>\n",
       "      <th>3</th>\n",
       "      <td>158501</td>\n",
       "    </tr>\n",
       "    <tr>\n",
       "      <th>4</th>\n",
       "      <td>177561</td>\n",
       "    </tr>\n",
       "  </tbody>\n",
       "</table>\n",
       "</div>"
      ],
      "text/plain": [
       "   email_id\n",
       "0    609056\n",
       "1    870980\n",
       "2    935124\n",
       "3    158501\n",
       "4    177561"
      ]
     },
     "execution_count": 7,
     "metadata": {},
     "output_type": "execute_result"
    }
   ],
   "source": [
    "link_clicked_table.head()"
   ]
  },
  {
   "cell_type": "markdown",
   "id": "629bc508-2768-41e8-86d0-65f356f801d8",
   "metadata": {},
   "source": [
    "# Merging tables based on email id "
   ]
  },
  {
   "cell_type": "code",
   "execution_count": 9,
   "id": "464d93fe-c044-4f80-acfd-897ee9956fb1",
   "metadata": {},
   "outputs": [],
   "source": [
    "df = email_table.copy()"
   ]
  },
  {
   "cell_type": "code",
   "execution_count": 10,
   "id": "3c973093-d32e-40d8-b3f5-f2709c7ccd87",
   "metadata": {},
   "outputs": [],
   "source": [
    "df[\"email_opened\"] = df[\"email_id\"].isin(email_opened_table[\"email_id\"]).astype(int)"
   ]
  },
  {
   "cell_type": "code",
   "execution_count": 11,
   "id": "5cd9c736-c48a-49e5-a229-02ca9fb6d652",
   "metadata": {},
   "outputs": [],
   "source": [
    "df[\"link_clicked\"] = df[\"email_id\"].isin(link_clicked_table[\"email_id\"]).astype(int)"
   ]
  },
  {
   "cell_type": "code",
   "execution_count": 12,
   "id": "902584cc-0dee-46ea-96dc-a02db3630617",
   "metadata": {},
   "outputs": [
    {
     "data": {
      "text/html": [
       "<div>\n",
       "<style scoped>\n",
       "    .dataframe tbody tr th:only-of-type {\n",
       "        vertical-align: middle;\n",
       "    }\n",
       "\n",
       "    .dataframe tbody tr th {\n",
       "        vertical-align: top;\n",
       "    }\n",
       "\n",
       "    .dataframe thead th {\n",
       "        text-align: right;\n",
       "    }\n",
       "</style>\n",
       "<table border=\"1\" class=\"dataframe\">\n",
       "  <thead>\n",
       "    <tr style=\"text-align: right;\">\n",
       "      <th></th>\n",
       "      <th>email_id</th>\n",
       "      <th>email_text</th>\n",
       "      <th>email_version</th>\n",
       "      <th>hour</th>\n",
       "      <th>weekday</th>\n",
       "      <th>user_country</th>\n",
       "      <th>user_past_purchases</th>\n",
       "      <th>email_opened</th>\n",
       "      <th>link_clicked</th>\n",
       "    </tr>\n",
       "  </thead>\n",
       "  <tbody>\n",
       "    <tr>\n",
       "      <th>0</th>\n",
       "      <td>85120</td>\n",
       "      <td>short_email</td>\n",
       "      <td>personalized</td>\n",
       "      <td>2</td>\n",
       "      <td>Sunday</td>\n",
       "      <td>US</td>\n",
       "      <td>5</td>\n",
       "      <td>0</td>\n",
       "      <td>0</td>\n",
       "    </tr>\n",
       "    <tr>\n",
       "      <th>1</th>\n",
       "      <td>966622</td>\n",
       "      <td>long_email</td>\n",
       "      <td>personalized</td>\n",
       "      <td>12</td>\n",
       "      <td>Sunday</td>\n",
       "      <td>UK</td>\n",
       "      <td>2</td>\n",
       "      <td>1</td>\n",
       "      <td>1</td>\n",
       "    </tr>\n",
       "    <tr>\n",
       "      <th>2</th>\n",
       "      <td>777221</td>\n",
       "      <td>long_email</td>\n",
       "      <td>personalized</td>\n",
       "      <td>11</td>\n",
       "      <td>Wednesday</td>\n",
       "      <td>US</td>\n",
       "      <td>2</td>\n",
       "      <td>0</td>\n",
       "      <td>0</td>\n",
       "    </tr>\n",
       "    <tr>\n",
       "      <th>3</th>\n",
       "      <td>493711</td>\n",
       "      <td>short_email</td>\n",
       "      <td>generic</td>\n",
       "      <td>6</td>\n",
       "      <td>Monday</td>\n",
       "      <td>UK</td>\n",
       "      <td>1</td>\n",
       "      <td>0</td>\n",
       "      <td>0</td>\n",
       "    </tr>\n",
       "    <tr>\n",
       "      <th>4</th>\n",
       "      <td>106887</td>\n",
       "      <td>long_email</td>\n",
       "      <td>generic</td>\n",
       "      <td>14</td>\n",
       "      <td>Monday</td>\n",
       "      <td>US</td>\n",
       "      <td>6</td>\n",
       "      <td>0</td>\n",
       "      <td>0</td>\n",
       "    </tr>\n",
       "  </tbody>\n",
       "</table>\n",
       "</div>"
      ],
      "text/plain": [
       "   email_id   email_text email_version  hour    weekday user_country  \\\n",
       "0     85120  short_email  personalized     2     Sunday           US   \n",
       "1    966622   long_email  personalized    12     Sunday           UK   \n",
       "2    777221   long_email  personalized    11  Wednesday           US   \n",
       "3    493711  short_email       generic     6     Monday           UK   \n",
       "4    106887   long_email       generic    14     Monday           US   \n",
       "\n",
       "   user_past_purchases  email_opened  link_clicked  \n",
       "0                    5             0             0  \n",
       "1                    2             1             1  \n",
       "2                    2             0             0  \n",
       "3                    1             0             0  \n",
       "4                    6             0             0  "
      ]
     },
     "execution_count": 12,
     "metadata": {},
     "output_type": "execute_result"
    }
   ],
   "source": [
    "df.head()"
   ]
  },
  {
   "cell_type": "markdown",
   "id": "f5c6d8d0-5b91-4d30-9c55-f2c1cf325832",
   "metadata": {},
   "source": [
    "# Basic checks"
   ]
  },
  {
   "cell_type": "code",
   "execution_count": 14,
   "id": "f1f88366-dbe6-4691-ab95-044eb3bffc97",
   "metadata": {},
   "outputs": [
    {
     "name": "stdout",
     "output_type": "stream",
     "text": [
      "<class 'pandas.core.frame.DataFrame'>\n",
      "RangeIndex: 100000 entries, 0 to 99999\n",
      "Data columns (total 9 columns):\n",
      " #   Column               Non-Null Count   Dtype \n",
      "---  ------               --------------   ----- \n",
      " 0   email_id             100000 non-null  int64 \n",
      " 1   email_text           100000 non-null  object\n",
      " 2   email_version        100000 non-null  object\n",
      " 3   hour                 100000 non-null  int64 \n",
      " 4   weekday              100000 non-null  object\n",
      " 5   user_country         100000 non-null  object\n",
      " 6   user_past_purchases  100000 non-null  int64 \n",
      " 7   email_opened         100000 non-null  int32 \n",
      " 8   link_clicked         100000 non-null  int32 \n",
      "dtypes: int32(2), int64(3), object(4)\n",
      "memory usage: 6.1+ MB\n"
     ]
    }
   ],
   "source": [
    "df.info()"
   ]
  },
  {
   "cell_type": "code",
   "execution_count": 15,
   "id": "228a136d-537b-4f41-83e0-c82780a570db",
   "metadata": {},
   "outputs": [
    {
     "data": {
      "text/html": [
       "<div>\n",
       "<style scoped>\n",
       "    .dataframe tbody tr th:only-of-type {\n",
       "        vertical-align: middle;\n",
       "    }\n",
       "\n",
       "    .dataframe tbody tr th {\n",
       "        vertical-align: top;\n",
       "    }\n",
       "\n",
       "    .dataframe thead th {\n",
       "        text-align: right;\n",
       "    }\n",
       "</style>\n",
       "<table border=\"1\" class=\"dataframe\">\n",
       "  <thead>\n",
       "    <tr style=\"text-align: right;\">\n",
       "      <th></th>\n",
       "      <th>email_id</th>\n",
       "      <th>hour</th>\n",
       "      <th>user_past_purchases</th>\n",
       "      <th>email_opened</th>\n",
       "      <th>link_clicked</th>\n",
       "    </tr>\n",
       "  </thead>\n",
       "  <tbody>\n",
       "    <tr>\n",
       "      <th>count</th>\n",
       "      <td>100000.000000</td>\n",
       "      <td>100000.000000</td>\n",
       "      <td>100000.00000</td>\n",
       "      <td>100000.000000</td>\n",
       "      <td>100000.000000</td>\n",
       "    </tr>\n",
       "    <tr>\n",
       "      <th>mean</th>\n",
       "      <td>498690.196160</td>\n",
       "      <td>9.059300</td>\n",
       "      <td>3.87845</td>\n",
       "      <td>0.103450</td>\n",
       "      <td>0.021190</td>\n",
       "    </tr>\n",
       "    <tr>\n",
       "      <th>std</th>\n",
       "      <td>289230.727534</td>\n",
       "      <td>4.439637</td>\n",
       "      <td>3.19611</td>\n",
       "      <td>0.304547</td>\n",
       "      <td>0.144018</td>\n",
       "    </tr>\n",
       "    <tr>\n",
       "      <th>min</th>\n",
       "      <td>8.000000</td>\n",
       "      <td>1.000000</td>\n",
       "      <td>0.00000</td>\n",
       "      <td>0.000000</td>\n",
       "      <td>0.000000</td>\n",
       "    </tr>\n",
       "    <tr>\n",
       "      <th>25%</th>\n",
       "      <td>246708.250000</td>\n",
       "      <td>6.000000</td>\n",
       "      <td>1.00000</td>\n",
       "      <td>0.000000</td>\n",
       "      <td>0.000000</td>\n",
       "    </tr>\n",
       "    <tr>\n",
       "      <th>50%</th>\n",
       "      <td>498447.000000</td>\n",
       "      <td>9.000000</td>\n",
       "      <td>3.00000</td>\n",
       "      <td>0.000000</td>\n",
       "      <td>0.000000</td>\n",
       "    </tr>\n",
       "    <tr>\n",
       "      <th>75%</th>\n",
       "      <td>749942.750000</td>\n",
       "      <td>12.000000</td>\n",
       "      <td>6.00000</td>\n",
       "      <td>0.000000</td>\n",
       "      <td>0.000000</td>\n",
       "    </tr>\n",
       "    <tr>\n",
       "      <th>max</th>\n",
       "      <td>999998.000000</td>\n",
       "      <td>24.000000</td>\n",
       "      <td>22.00000</td>\n",
       "      <td>1.000000</td>\n",
       "      <td>1.000000</td>\n",
       "    </tr>\n",
       "  </tbody>\n",
       "</table>\n",
       "</div>"
      ],
      "text/plain": [
       "            email_id           hour  user_past_purchases   email_opened  \\\n",
       "count  100000.000000  100000.000000         100000.00000  100000.000000   \n",
       "mean   498690.196160       9.059300              3.87845       0.103450   \n",
       "std    289230.727534       4.439637              3.19611       0.304547   \n",
       "min         8.000000       1.000000              0.00000       0.000000   \n",
       "25%    246708.250000       6.000000              1.00000       0.000000   \n",
       "50%    498447.000000       9.000000              3.00000       0.000000   \n",
       "75%    749942.750000      12.000000              6.00000       0.000000   \n",
       "max    999998.000000      24.000000             22.00000       1.000000   \n",
       "\n",
       "        link_clicked  \n",
       "count  100000.000000  \n",
       "mean        0.021190  \n",
       "std         0.144018  \n",
       "min         0.000000  \n",
       "25%         0.000000  \n",
       "50%         0.000000  \n",
       "75%         0.000000  \n",
       "max         1.000000  "
      ]
     },
     "execution_count": 15,
     "metadata": {},
     "output_type": "execute_result"
    }
   ],
   "source": [
    "df.describe()"
   ]
  },
  {
   "cell_type": "code",
   "execution_count": 16,
   "id": "8171d121-6d75-43f7-a41f-9f621431dbea",
   "metadata": {},
   "outputs": [
    {
     "data": {
      "text/plain": [
       "email_id               0\n",
       "email_text             0\n",
       "email_version          0\n",
       "hour                   0\n",
       "weekday                0\n",
       "user_country           0\n",
       "user_past_purchases    0\n",
       "email_opened           0\n",
       "link_clicked           0\n",
       "dtype: int64"
      ]
     },
     "execution_count": 16,
     "metadata": {},
     "output_type": "execute_result"
    }
   ],
   "source": [
    "df.isnull().sum()"
   ]
  },
  {
   "cell_type": "markdown",
   "id": "71eaf5ff-ac16-4f06-b80e-a38e32213781",
   "metadata": {},
   "source": [
    "# EDA (Exploratory data analysis)"
   ]
  },
  {
   "cell_type": "markdown",
   "id": "2156cb8d-b9f2-4aec-9e48-988750c00739",
   "metadata": {},
   "source": [
    "## Percentage of emails opened and not opened"
   ]
  },
  {
   "cell_type": "code",
   "execution_count": 19,
   "id": "53b6b48e-71c3-4a48-9aca-0521c1c1fb2b",
   "metadata": {},
   "outputs": [
    {
     "data": {
      "text/plain": [
       "email_opened\n",
       "0    89.655\n",
       "1    10.345\n",
       "Name: proportion, dtype: float64"
      ]
     },
     "execution_count": 19,
     "metadata": {},
     "output_type": "execute_result"
    }
   ],
   "source": [
    "email_opened_count=df[\"email_opened\"].value_counts(normalize=True)*100\n",
    "email_opened_count"
   ]
  },
  {
   "cell_type": "code",
   "execution_count": 20,
   "id": "321474e8-2735-455e-83ca-3f0099e83d23",
   "metadata": {},
   "outputs": [
    {
     "data": {
      "image/png": "[encoded data removed]",
      "text/plain": [
       "<Figure size 500x700 with 1 Axes>"
      ]
     },
     "metadata": {},
     "output_type": "display_data"
    }
   ],
   "source": [
    "plt.figure(figsize=(5,7))\n",
    "plt.pie(email_opened_count,labels=email_opened_count.index,startangle=90)\n",
    "plt.title(\"Emails Opened\")\n",
    "plt.legend()\n",
    "plt.show()"
   ]
  },
  {
   "cell_type": "markdown",
   "id": "de070cd0-849d-4f19-9d0c-3f3bab6022c0",
   "metadata": {},
   "source": [
    "### By this we can say there are only 10% Users who opened the emails"
   ]
  },
  {
   "cell_type": "markdown",
   "id": "a4058ea9-11d9-47f6-8eb4-911019b080d0",
   "metadata": {},
   "source": [
    "## Percentage of link click and not click"
   ]
  },
  {
   "cell_type": "code",
   "execution_count": 23,
   "id": "a838ba50-d5f5-467b-a460-7715a9b3d938",
   "metadata": {},
   "outputs": [
    {
     "data": {
      "text/plain": [
       "link_clicked\n",
       "0    97.881\n",
       "1     2.119\n",
       "Name: proportion, dtype: float64"
      ]
     },
     "execution_count": 23,
     "metadata": {},
     "output_type": "execute_result"
    }
   ],
   "source": [
    "link_clicked_count=df[\"link_clicked\"].value_counts(normalize=True)*100\n",
    "link_clicked_count"
   ]
  },
  {
   "cell_type": "code",
   "execution_count": 24,
   "id": "e4637012-cfce-4448-8718-10e701524f12",
   "metadata": {},
   "outputs": [
    {
     "data": {
      "image/png": "[encoded data removed]",
      "text/plain": [
       "<Figure size 500x700 with 1 Axes>"
      ]
     },
     "metadata": {},
     "output_type": "display_data"
    }
   ],
   "source": [
    "plt.figure(figsize=(5,7))\n",
    "plt.pie(link_clicked_count, labels = link_clicked_count.index,startangle=90)\n",
    "plt.title(\"Link Clicked\")\n",
    "plt.legend()\n",
    "plt.show()"
   ]
  },
  {
   "cell_type": "markdown",
   "id": "5c8c0d94-08c6-44fc-b67a-bac28b4a5942",
   "metadata": {},
   "source": [
    "### There are only 2% of users click the link"
   ]
  },
  {
   "cell_type": "markdown",
   "id": "926bce63-952a-4f35-91a5-fc74fc1c5930",
   "metadata": {},
   "source": [
    "## Emails opened based on hours"
   ]
  },
  {
   "cell_type": "code",
   "execution_count": 27,
   "id": "847e999c-a486-4c24-b328-79c57c2181af",
   "metadata": {
    "scrolled": true
   },
   "outputs": [],
   "source": [
    "df_hour = df.groupby(\"hour\")[[\"email_opened\",\"link_clicked\"]].mean().reset_index()"
   ]
  },
  {
   "cell_type": "code",
   "execution_count": 28,
   "id": "17daa9a5-ed45-4a21-9d81-e5bcdf6b3ac4",
   "metadata": {},
   "outputs": [
    {
     "data": {
      "image/png": "[encoded data removed]",
      "text/plain": [
       "<Figure size 500x500 with 1 Axes>"
      ]
     },
     "metadata": {},
     "output_type": "display_data"
    }
   ],
   "source": [
    "plt.figure(figsize=(5,5))\n",
    "sns.lineplot(data= df_hour,x= \"hour\",y=\"email_opened\",label = \"email_opened\")\n",
    "sns.lineplot(data= df_hour, x= \"hour\",y= \"link_clicked\",label = \"link_clicked\")\n",
    "plt.title(\"email opened on hours\")\n",
    "plt.show()"
   ]
  },
  {
   "cell_type": "markdown",
   "id": "b3505170-32dd-4c9d-a6a1-a140dbbf011b",
   "metadata": {},
   "source": [
    "### There is a good growth of link clicked and email opened rate in the range of 20 to 25 hours"
   ]
  },
  {
   "cell_type": "markdown",
   "id": "3e0c4811-d874-41a0-afb8-527e21090879",
   "metadata": {},
   "source": [
    "## Rate of Email opened and linked clicked based on weekdays"
   ]
  },
  {
   "cell_type": "code",
   "execution_count": 31,
   "id": "0bb619cc-9edc-49d9-b64f-ceeaa6818a20",
   "metadata": {},
   "outputs": [],
   "source": [
    "df_weekday = df.groupby(\"weekday\")[[\"email_opened\",\"link_clicked\"]].mean()"
   ]
  },
  {
   "cell_type": "code",
   "execution_count": 32,
   "id": "200876a2-900d-46a3-b8e4-6f3b780d0745",
   "metadata": {},
   "outputs": [
    {
     "data": {
      "image/png": "[encoded data removed]",
      "text/plain": [
       "<Figure size 640x480 with 1 Axes>"
      ]
     },
     "metadata": {},
     "output_type": "display_data"
    }
   ],
   "source": [
    "sns.barplot(data=df_weekday, x='weekday', y='link_clicked')\n",
    "plt.title(\"clicked rate by the day of the week\")\n",
    "plt.show()"
   ]
  },
  {
   "cell_type": "code",
   "execution_count": 33,
   "id": "5c01a2d1-b039-40a0-88fc-dd1da9788a77",
   "metadata": {},
   "outputs": [
    {
     "data": {
      "image/png": "[encoded data removed]",
      "text/plain": [
       "<Figure size 640x480 with 1 Axes>"
      ]
     },
     "metadata": {},
     "output_type": "display_data"
    }
   ],
   "source": [
    "sns.barplot(data=df_weekday, x='weekday', y='email_opened')\n",
    "plt.title(\"email opened rate by the day of the week\")\n",
    "plt.show()"
   ]
  },
  {
   "cell_type": "markdown",
   "id": "0fc5d011-7425-4cba-ad17-b7b13eb7a68b",
   "metadata": {},
   "source": [
    "### There is a good chance of getting emails opened and linked clicked in weekdays of Monday,Tuesday,Thursday and Wednesday.But Friday It has low Email opened rate and linked clicked rate with Sunday that has low link clicked rate So we can ignore Friday and Sunday "
   ]
  },
  {
   "cell_type": "markdown",
   "id": "3d1f6565-3db0-4493-92c0-16598a6387bf",
   "metadata": {},
   "source": [
    "## Grouping email version With email opened and a link clicked and getting the mean of them"
   ]
  },
  {
   "cell_type": "code",
   "execution_count": 36,
   "id": "1548d9f1-e861-4e49-a387-0243561a2a72",
   "metadata": {},
   "outputs": [
    {
     "data": {
      "text/html": [
       "<div>\n",
       "<style scoped>\n",
       "    .dataframe tbody tr th:only-of-type {\n",
       "        vertical-align: middle;\n",
       "    }\n",
       "\n",
       "    .dataframe tbody tr th {\n",
       "        vertical-align: top;\n",
       "    }\n",
       "\n",
       "    .dataframe thead th {\n",
       "        text-align: right;\n",
       "    }\n",
       "</style>\n",
       "<table border=\"1\" class=\"dataframe\">\n",
       "  <thead>\n",
       "    <tr style=\"text-align: right;\">\n",
       "      <th></th>\n",
       "      <th>email_opened</th>\n",
       "      <th>link_clicked</th>\n",
       "    </tr>\n",
       "    <tr>\n",
       "      <th>email_version</th>\n",
       "      <th></th>\n",
       "      <th></th>\n",
       "    </tr>\n",
       "  </thead>\n",
       "  <tbody>\n",
       "    <tr>\n",
       "      <th>generic</th>\n",
       "      <td>0.079348</td>\n",
       "      <td>0.015137</td>\n",
       "    </tr>\n",
       "    <tr>\n",
       "      <th>personalized</th>\n",
       "      <td>0.127754</td>\n",
       "      <td>0.027294</td>\n",
       "    </tr>\n",
       "  </tbody>\n",
       "</table>\n",
       "</div>"
      ],
      "text/plain": [
       "               email_opened  link_clicked\n",
       "email_version                            \n",
       "generic            0.079348      0.015137\n",
       "personalized       0.127754      0.027294"
      ]
     },
     "execution_count": 36,
     "metadata": {},
     "output_type": "execute_result"
    }
   ],
   "source": [
    "df.groupby(\"email_version\")[[\"email_opened\",\"link_clicked\"]].mean()"
   ]
  },
  {
   "cell_type": "markdown",
   "id": "395626f2-a7c2-42e9-b0e0-aee4d82fdaee",
   "metadata": {},
   "source": [
    "### Personalised Emails gives good outcomes On both the email opened and linked clicked"
   ]
  },
  {
   "cell_type": "markdown",
   "id": "cf051d96-4a48-4025-83d5-0440f6772de7",
   "metadata": {},
   "source": [
    "## Grouping email text with email opened and link clicked and with the mean of them"
   ]
  },
  {
   "cell_type": "code",
   "execution_count": 39,
   "id": "0b770aaf-a67f-4a7a-9f5f-b5dcfda0cf73",
   "metadata": {},
   "outputs": [
    {
     "data": {
      "text/html": [
       "<div>\n",
       "<style scoped>\n",
       "    .dataframe tbody tr th:only-of-type {\n",
       "        vertical-align: middle;\n",
       "    }\n",
       "\n",
       "    .dataframe tbody tr th {\n",
       "        vertical-align: top;\n",
       "    }\n",
       "\n",
       "    .dataframe thead th {\n",
       "        text-align: right;\n",
       "    }\n",
       "</style>\n",
       "<table border=\"1\" class=\"dataframe\">\n",
       "  <thead>\n",
       "    <tr style=\"text-align: right;\">\n",
       "      <th></th>\n",
       "      <th>email_opened</th>\n",
       "      <th>link_clicked</th>\n",
       "    </tr>\n",
       "    <tr>\n",
       "      <th>email_text</th>\n",
       "      <th></th>\n",
       "      <th></th>\n",
       "    </tr>\n",
       "  </thead>\n",
       "  <tbody>\n",
       "    <tr>\n",
       "      <th>long_email</th>\n",
       "      <td>0.091177</td>\n",
       "      <td>0.018538</td>\n",
       "    </tr>\n",
       "    <tr>\n",
       "      <th>short_email</th>\n",
       "      <td>0.115860</td>\n",
       "      <td>0.023872</td>\n",
       "    </tr>\n",
       "  </tbody>\n",
       "</table>\n",
       "</div>"
      ],
      "text/plain": [
       "             email_opened  link_clicked\n",
       "email_text                             \n",
       "long_email       0.091177      0.018538\n",
       "short_email      0.115860      0.023872"
      ]
     },
     "execution_count": 39,
     "metadata": {},
     "output_type": "execute_result"
    }
   ],
   "source": [
    "df.groupby(\"email_text\")[[\"email_opened\",\"link_clicked\"]].mean()"
   ]
  },
  {
   "cell_type": "markdown",
   "id": "86a02a2d-4689-441e-a24a-20f57b3911e1",
   "metadata": {},
   "source": [
    "### Short emails has a great impact on email opened and linked clicked"
   ]
  },
  {
   "cell_type": "markdown",
   "id": "0ee8139a-9a22-4f4a-8896-10d1092011fe",
   "metadata": {},
   "source": [
    "## Grouping email id and link clicked based on user country and getting the mean of the each country "
   ]
  },
  {
   "cell_type": "code",
   "execution_count": 42,
   "id": "2756651a-e3cc-46b4-932d-d7cc9d13354f",
   "metadata": {},
   "outputs": [
    {
     "data": {
      "text/html": [
       "<div>\n",
       "<style scoped>\n",
       "    .dataframe tbody tr th:only-of-type {\n",
       "        vertical-align: middle;\n",
       "    }\n",
       "\n",
       "    .dataframe tbody tr th {\n",
       "        vertical-align: top;\n",
       "    }\n",
       "\n",
       "    .dataframe thead th {\n",
       "        text-align: right;\n",
       "    }\n",
       "</style>\n",
       "<table border=\"1\" class=\"dataframe\">\n",
       "  <thead>\n",
       "    <tr style=\"text-align: right;\">\n",
       "      <th></th>\n",
       "      <th>email_opened</th>\n",
       "      <th>link_clicked</th>\n",
       "    </tr>\n",
       "    <tr>\n",
       "      <th>user_country</th>\n",
       "      <th></th>\n",
       "      <th></th>\n",
       "    </tr>\n",
       "  </thead>\n",
       "  <tbody>\n",
       "    <tr>\n",
       "      <th>UK</th>\n",
       "      <td>0.120167</td>\n",
       "      <td>0.024675</td>\n",
       "    </tr>\n",
       "    <tr>\n",
       "      <th>US</th>\n",
       "      <td>0.119020</td>\n",
       "      <td>0.024360</td>\n",
       "    </tr>\n",
       "    <tr>\n",
       "      <th>ES</th>\n",
       "      <td>0.039129</td>\n",
       "      <td>0.008327</td>\n",
       "    </tr>\n",
       "    <tr>\n",
       "      <th>FR</th>\n",
       "      <td>0.040620</td>\n",
       "      <td>0.008004</td>\n",
       "    </tr>\n",
       "  </tbody>\n",
       "</table>\n",
       "</div>"
      ],
      "text/plain": [
       "              email_opened  link_clicked\n",
       "user_country                            \n",
       "UK                0.120167      0.024675\n",
       "US                0.119020      0.024360\n",
       "ES                0.039129      0.008327\n",
       "FR                0.040620      0.008004"
      ]
     },
     "execution_count": 42,
     "metadata": {},
     "output_type": "execute_result"
    }
   ],
   "source": [
    "df_country = df.groupby(\"user_country\")[[\"email_opened\",\"link_clicked\"]].mean().sort_values(by = \"link_clicked\",ascending=False)\n",
    "df_country"
   ]
  },
  {
   "cell_type": "code",
   "execution_count": 43,
   "id": "7be07a0c-7276-4a83-9a84-00d4dbaad38b",
   "metadata": {},
   "outputs": [
    {
     "data": {
      "image/png": "[encoded data removed]",
      "text/plain": [
       "<Figure size 600x500 with 1 Axes>"
      ]
     },
     "metadata": {},
     "output_type": "display_data"
    }
   ],
   "source": [
    "plt.figure(figsize=(6,5))\n",
    "sns.barplot(data=df_country,x=\"user_country\",y=\"link_clicked\")\n",
    "plt.title(\"link clicked rate according to the user country\")\n",
    "plt.show()"
   ]
  },
  {
   "cell_type": "code",
   "execution_count": 44,
   "id": "0d5f1ea6-0aff-4e33-b057-20b2a3509667",
   "metadata": {},
   "outputs": [
    {
     "data": {
      "image/png": "[encoded data removed]",
      "text/plain": [
       "<Figure size 600x500 with 1 Axes>"
      ]
     },
     "metadata": {},
     "output_type": "display_data"
    }
   ],
   "source": [
    "plt.figure(figsize=(6,5))\n",
    "sns.barplot(data=df_country,x=\"user_country\",y=\"email_opened\")\n",
    "plt.title(\"email opened rate according to the user country\")\n",
    "plt.show()"
   ]
  },
  {
   "cell_type": "markdown",
   "id": "dfb84efd-0e47-4c29-a8e5-0d0399685efc",
   "metadata": {},
   "source": [
    "### The UK and US customers has the highest email opened and linked clicked rate "
   ]
  },
  {
   "cell_type": "markdown",
   "id": "d868947f-80dc-4328-afaf-1b73532f0d32",
   "metadata": {},
   "source": [
    "## Grouping column Based on Past purchases By splitting the past purchase column into bins"
   ]
  },
  {
   "cell_type": "code",
   "execution_count": 47,
   "id": "97ae2287-1b67-4c48-a7a5-c4b06ffdc736",
   "metadata": {},
   "outputs": [],
   "source": [
    "df[\"purchase_bucket\"]= pd.cut(df['user_past_purchases'],bins=[-1, 0,1, 5, 10, 50],labels=[\"0\", \"1\", \"2-5\", \"6-10\", \"+11\"])"
   ]
  },
  {
   "cell_type": "code",
   "execution_count": 48,
   "id": "fdfd18c5-c094-47fc-b66d-725605a41cee",
   "metadata": {},
   "outputs": [
    {
     "name": "stderr",
     "output_type": "stream",
     "text": [
      "C:\\Users\\DELL\\AppData\\Local\\Temp\\ipykernel_13704\\1962893010.py:1: FutureWarning: The default of observed=False is deprecated and will be changed to True in a future version of pandas. Pass observed=False to retain current behavior or observed=True to adopt the future default and silence this warning.\n",
      "  df.groupby(\"purchase_bucket\")[[\"email_opened\",\"link_clicked\"]].mean().plot(kind=\"bar\")\n"
     ]
    },
    {
     "data": {
      "image/png": "[encoded data removed]",
      "text/plain": [
       "<Figure size 640x480 with 1 Axes>"
      ]
     },
     "metadata": {},
     "output_type": "display_data"
    }
   ],
   "source": [
    "df.groupby(\"purchase_bucket\")[[\"email_opened\",\"link_clicked\"]].mean().plot(kind=\"bar\")\n",
    "plt.title(\"purchase bucket rate\")\n",
    "plt.ylabel(\"Rate\")\n",
    "plt.show()"
   ]
  },
  {
   "cell_type": "markdown",
   "id": "6c0b48f2-99f5-47d2-84a8-6a60fd332878",
   "metadata": {},
   "source": [
    "### The user who have purchased more in the past are more likely to open and click emails"
   ]
  },
  {
   "cell_type": "markdown",
   "id": "6ebe66ec-b8ca-4504-8051-9ca56d0328fc",
   "metadata": {},
   "source": [
    "## Representing user percentage according to the country"
   ]
  },
  {
   "cell_type": "code",
   "execution_count": 51,
   "id": "17367f8e-d932-417b-8e1f-329623e9d40a",
   "metadata": {},
   "outputs": [
    {
     "data": {
      "text/plain": [
       "user_country\n",
       "US    60099\n",
       "UK    19939\n",
       "FR     9995\n",
       "ES     9967\n",
       "Name: count, dtype: int64"
      ]
     },
     "execution_count": 51,
     "metadata": {},
     "output_type": "execute_result"
    }
   ],
   "source": [
    "user_country_count= df[\"user_country\"].value_counts()\n",
    "user_country_count"
   ]
  },
  {
   "cell_type": "code",
   "execution_count": 52,
   "id": "1b8644e4-80ea-414d-9dcf-6bb42d191ea1",
   "metadata": {},
   "outputs": [
    {
     "data": {
      "image/png": "[encoded data removed]",
      "text/plain": [
       "<Figure size 640x480 with 1 Axes>"
      ]
     },
     "metadata": {},
     "output_type": "display_data"
    }
   ],
   "source": [
    "plt.pie(user_country_count,labels = user_country_count.index, startangle = 90,\n",
    "       explode = (0,0.2,0,0),\n",
    "       shadow = True, autopct = '%.1f%%')\n",
    "plt.title(\"user_country\")\n",
    "plt.legend()\n",
    "plt.show()"
   ]
  },
  {
   "cell_type": "markdown",
   "id": "73c85336-0cdf-44ff-9d9e-33b15cd5c81b",
   "metadata": {},
   "source": [
    "## Checking for the outliers using boxplot"
   ]
  },
  {
   "cell_type": "code",
   "execution_count": 54,
   "id": "5182c3e7-8ba1-420a-a138-f7678a716e71",
   "metadata": {},
   "outputs": [
    {
     "data": {
      "image/png": "[encoded data removed]",
      "text/plain": [
       "<Figure size 800x700 with 1 Axes>"
      ]
     },
     "metadata": {},
     "output_type": "display_data"
    }
   ],
   "source": [
    "plt.figure(figsize=(8,7))\n",
    "sns.boxplot(data= df)\n",
    "plt.show()"
   ]
  },
  {
   "cell_type": "markdown",
   "id": "de52d096-7146-4f91-87ec-f0d800b88554",
   "metadata": {},
   "source": [
    "# Feature Engneering "
   ]
  },
  {
   "cell_type": "code",
   "execution_count": 56,
   "id": "2bcaea7b-e232-4f02-a826-1fb7de901ece",
   "metadata": {},
   "outputs": [
    {
     "data": {
      "text/html": [
       "<div>\n",
       "<style scoped>\n",
       "    .dataframe tbody tr th:only-of-type {\n",
       "        vertical-align: middle;\n",
       "    }\n",
       "\n",
       "    .dataframe tbody tr th {\n",
       "        vertical-align: top;\n",
       "    }\n",
       "\n",
       "    .dataframe thead th {\n",
       "        text-align: right;\n",
       "    }\n",
       "</style>\n",
       "<table border=\"1\" class=\"dataframe\">\n",
       "  <thead>\n",
       "    <tr style=\"text-align: right;\">\n",
       "      <th></th>\n",
       "      <th>email_id</th>\n",
       "      <th>email_text</th>\n",
       "      <th>email_version</th>\n",
       "      <th>hour</th>\n",
       "      <th>weekday</th>\n",
       "      <th>user_country</th>\n",
       "      <th>user_past_purchases</th>\n",
       "      <th>email_opened</th>\n",
       "      <th>link_clicked</th>\n",
       "      <th>purchase_bucket</th>\n",
       "    </tr>\n",
       "  </thead>\n",
       "  <tbody>\n",
       "    <tr>\n",
       "      <th>0</th>\n",
       "      <td>85120</td>\n",
       "      <td>short_email</td>\n",
       "      <td>personalized</td>\n",
       "      <td>2</td>\n",
       "      <td>Sunday</td>\n",
       "      <td>US</td>\n",
       "      <td>5</td>\n",
       "      <td>0</td>\n",
       "      <td>0</td>\n",
       "      <td>2-5</td>\n",
       "    </tr>\n",
       "    <tr>\n",
       "      <th>1</th>\n",
       "      <td>966622</td>\n",
       "      <td>long_email</td>\n",
       "      <td>personalized</td>\n",
       "      <td>12</td>\n",
       "      <td>Sunday</td>\n",
       "      <td>UK</td>\n",
       "      <td>2</td>\n",
       "      <td>1</td>\n",
       "      <td>1</td>\n",
       "      <td>2-5</td>\n",
       "    </tr>\n",
       "    <tr>\n",
       "      <th>2</th>\n",
       "      <td>777221</td>\n",
       "      <td>long_email</td>\n",
       "      <td>personalized</td>\n",
       "      <td>11</td>\n",
       "      <td>Wednesday</td>\n",
       "      <td>US</td>\n",
       "      <td>2</td>\n",
       "      <td>0</td>\n",
       "      <td>0</td>\n",
       "      <td>2-5</td>\n",
       "    </tr>\n",
       "    <tr>\n",
       "      <th>3</th>\n",
       "      <td>493711</td>\n",
       "      <td>short_email</td>\n",
       "      <td>generic</td>\n",
       "      <td>6</td>\n",
       "      <td>Monday</td>\n",
       "      <td>UK</td>\n",
       "      <td>1</td>\n",
       "      <td>0</td>\n",
       "      <td>0</td>\n",
       "      <td>1</td>\n",
       "    </tr>\n",
       "    <tr>\n",
       "      <th>4</th>\n",
       "      <td>106887</td>\n",
       "      <td>long_email</td>\n",
       "      <td>generic</td>\n",
       "      <td>14</td>\n",
       "      <td>Monday</td>\n",
       "      <td>US</td>\n",
       "      <td>6</td>\n",
       "      <td>0</td>\n",
       "      <td>0</td>\n",
       "      <td>6-10</td>\n",
       "    </tr>\n",
       "  </tbody>\n",
       "</table>\n",
       "</div>"
      ],
      "text/plain": [
       "   email_id   email_text email_version  hour    weekday user_country  \\\n",
       "0     85120  short_email  personalized     2     Sunday           US   \n",
       "1    966622   long_email  personalized    12     Sunday           UK   \n",
       "2    777221   long_email  personalized    11  Wednesday           US   \n",
       "3    493711  short_email       generic     6     Monday           UK   \n",
       "4    106887   long_email       generic    14     Monday           US   \n",
       "\n",
       "   user_past_purchases  email_opened  link_clicked purchase_bucket  \n",
       "0                    5             0             0             2-5  \n",
       "1                    2             1             1             2-5  \n",
       "2                    2             0             0             2-5  \n",
       "3                    1             0             0               1  \n",
       "4                    6             0             0            6-10  "
      ]
     },
     "execution_count": 56,
     "metadata": {},
     "output_type": "execute_result"
    }
   ],
   "source": [
    "df.head()"
   ]
  },
  {
   "cell_type": "markdown",
   "id": "75154c06-dc05-453e-9f35-364e01f25dcf",
   "metadata": {},
   "source": [
    "## Encoding the categorical columns to numerical columns using label encoder"
   ]
  },
  {
   "cell_type": "code",
   "execution_count": 58,
   "id": "70337781-2874-4674-8433-227c7f2bbb9a",
   "metadata": {},
   "outputs": [],
   "source": [
    "from sklearn.preprocessing import LabelEncoder\n",
    "\n",
    "cols = ['email_text','email_version','weekday','user_country']\n",
    "\n",
    "for col in cols:\n",
    "    df[col]=LabelEncoder().fit_transform(df[col])"
   ]
  },
  {
   "cell_type": "markdown",
   "id": "6c22557a-fd1f-41b8-9aff-592fbabf8571",
   "metadata": {},
   "source": [
    "## Scaling the user past purchase using a min max scalar technique"
   ]
  },
  {
   "cell_type": "code",
   "execution_count": 60,
   "id": "0ab38762-29df-4ea4-9854-5ae6c17e061c",
   "metadata": {},
   "outputs": [],
   "source": [
    "from sklearn.preprocessing import MinMaxScaler\n",
    "\n",
    "scaler = MinMaxScaler()\n",
    "df[\"user_past_purchases_scaled\"]=scaler.fit_transform(df[[\"user_past_purchases\"]])"
   ]
  },
  {
   "cell_type": "code",
   "execution_count": 61,
   "id": "820c4c88-ff39-4ec2-ae37-b55a847f5445",
   "metadata": {},
   "outputs": [
    {
     "data": {
      "text/html": [
       "<div>\n",
       "<style scoped>\n",
       "    .dataframe tbody tr th:only-of-type {\n",
       "        vertical-align: middle;\n",
       "    }\n",
       "\n",
       "    .dataframe tbody tr th {\n",
       "        vertical-align: top;\n",
       "    }\n",
       "\n",
       "    .dataframe thead th {\n",
       "        text-align: right;\n",
       "    }\n",
       "</style>\n",
       "<table border=\"1\" class=\"dataframe\">\n",
       "  <thead>\n",
       "    <tr style=\"text-align: right;\">\n",
       "      <th></th>\n",
       "      <th>email_id</th>\n",
       "      <th>email_text</th>\n",
       "      <th>email_version</th>\n",
       "      <th>hour</th>\n",
       "      <th>weekday</th>\n",
       "      <th>user_country</th>\n",
       "      <th>user_past_purchases</th>\n",
       "      <th>email_opened</th>\n",
       "      <th>link_clicked</th>\n",
       "      <th>purchase_bucket</th>\n",
       "      <th>user_past_purchases_scaled</th>\n",
       "    </tr>\n",
       "  </thead>\n",
       "  <tbody>\n",
       "    <tr>\n",
       "      <th>0</th>\n",
       "      <td>85120</td>\n",
       "      <td>1</td>\n",
       "      <td>1</td>\n",
       "      <td>2</td>\n",
       "      <td>3</td>\n",
       "      <td>3</td>\n",
       "      <td>5</td>\n",
       "      <td>0</td>\n",
       "      <td>0</td>\n",
       "      <td>2-5</td>\n",
       "      <td>0.227273</td>\n",
       "    </tr>\n",
       "    <tr>\n",
       "      <th>1</th>\n",
       "      <td>966622</td>\n",
       "      <td>0</td>\n",
       "      <td>1</td>\n",
       "      <td>12</td>\n",
       "      <td>3</td>\n",
       "      <td>2</td>\n",
       "      <td>2</td>\n",
       "      <td>1</td>\n",
       "      <td>1</td>\n",
       "      <td>2-5</td>\n",
       "      <td>0.090909</td>\n",
       "    </tr>\n",
       "    <tr>\n",
       "      <th>2</th>\n",
       "      <td>777221</td>\n",
       "      <td>0</td>\n",
       "      <td>1</td>\n",
       "      <td>11</td>\n",
       "      <td>6</td>\n",
       "      <td>3</td>\n",
       "      <td>2</td>\n",
       "      <td>0</td>\n",
       "      <td>0</td>\n",
       "      <td>2-5</td>\n",
       "      <td>0.090909</td>\n",
       "    </tr>\n",
       "    <tr>\n",
       "      <th>3</th>\n",
       "      <td>493711</td>\n",
       "      <td>1</td>\n",
       "      <td>0</td>\n",
       "      <td>6</td>\n",
       "      <td>1</td>\n",
       "      <td>2</td>\n",
       "      <td>1</td>\n",
       "      <td>0</td>\n",
       "      <td>0</td>\n",
       "      <td>1</td>\n",
       "      <td>0.045455</td>\n",
       "    </tr>\n",
       "    <tr>\n",
       "      <th>4</th>\n",
       "      <td>106887</td>\n",
       "      <td>0</td>\n",
       "      <td>0</td>\n",
       "      <td>14</td>\n",
       "      <td>1</td>\n",
       "      <td>3</td>\n",
       "      <td>6</td>\n",
       "      <td>0</td>\n",
       "      <td>0</td>\n",
       "      <td>6-10</td>\n",
       "      <td>0.272727</td>\n",
       "    </tr>\n",
       "  </tbody>\n",
       "</table>\n",
       "</div>"
      ],
      "text/plain": [
       "   email_id  email_text  email_version  hour  weekday  user_country  \\\n",
       "0     85120           1              1     2        3             3   \n",
       "1    966622           0              1    12        3             2   \n",
       "2    777221           0              1    11        6             3   \n",
       "3    493711           1              0     6        1             2   \n",
       "4    106887           0              0    14        1             3   \n",
       "\n",
       "   user_past_purchases  email_opened  link_clicked purchase_bucket  \\\n",
       "0                    5             0             0             2-5   \n",
       "1                    2             1             1             2-5   \n",
       "2                    2             0             0             2-5   \n",
       "3                    1             0             0               1   \n",
       "4                    6             0             0            6-10   \n",
       "\n",
       "   user_past_purchases_scaled  \n",
       "0                    0.227273  \n",
       "1                    0.090909  \n",
       "2                    0.090909  \n",
       "3                    0.045455  \n",
       "4                    0.272727  "
      ]
     },
     "execution_count": 61,
     "metadata": {},
     "output_type": "execute_result"
    }
   ],
   "source": [
    "df.head()"
   ]
  },
  {
   "cell_type": "markdown",
   "id": "feaeb771-7f16-45d3-abdb-58a1f17490fa",
   "metadata": {},
   "source": [
    "# Model building"
   ]
  },
  {
   "cell_type": "code",
   "execution_count": 63,
   "id": "a735d2fc-2a89-4f62-86da-fda012db8743",
   "metadata": {},
   "outputs": [],
   "source": [
    "from sklearn.model_selection import train_test_split\n",
    "from sklearn.linear_model import LogisticRegression\n",
    "from sklearn.ensemble import RandomForestClassifier\n",
    "from sklearn.tree import DecisionTreeClassifier\n",
    "from sklearn.neighbors import KNeighborsClassifier\n",
    "from sklearn.svm import SVC\n",
    "from sklearn.metrics import accuracy_score, precision_score, recall_score, f1_score"
   ]
  },
  {
   "cell_type": "markdown",
   "id": "058b1906-8877-46dd-9bb2-75d664d38355",
   "metadata": {},
   "source": [
    "### Defining the features and target column (X,y) And splitting the data into training and testing"
   ]
  },
  {
   "cell_type": "code",
   "execution_count": 65,
   "id": "7b184dea-7f1b-4fed-b649-cd2dc0651341",
   "metadata": {},
   "outputs": [],
   "source": [
    "X = df.drop(columns=['email_id', 'link_clicked','purchase_bucket']) \n",
    "y = df['link_clicked']  "
   ]
  },
  {
   "cell_type": "code",
   "execution_count": 66,
   "id": "4d9057db-2cf1-4c2a-b75f-69c2516ad436",
   "metadata": {},
   "outputs": [],
   "source": [
    "X_train, X_temp, y_train, y_temp = train_test_split(X, y, test_size=0.2, random_state=42)\n",
    "X_val, X_test, y_val, y_test = train_test_split(X_temp, y_temp, test_size=0.5, random_state=42)"
   ]
  },
  {
   "cell_type": "markdown",
   "id": "358f70ae-ceef-4a94-b024-9e0cf4c07f56",
   "metadata": {},
   "source": [
    "### Dictionary of classification models with their respective configurations"
   ]
  },
  {
   "cell_type": "code",
   "execution_count": 68,
   "id": "783a3c54-22e1-4c37-be83-a096d5173bbd",
   "metadata": {},
   "outputs": [],
   "source": [
    "models = {\n",
    "    'Logistic Regression': LogisticRegression(max_iter=1000, random_state=42),\n",
    "    'Random Forest': RandomForestClassifier(random_state=42),\n",
    "    'Decision Tree': DecisionTreeClassifier(random_state=42),\n",
    "    'K-Nearest Neighbors': KNeighborsClassifier(),\n",
    "    'Support Vector Machine': SVC(random_state=42)\n",
    "}"
   ]
  },
  {
   "cell_type": "markdown",
   "id": "62b28157-529a-4fe4-8205-77b7fb734c9d",
   "metadata": {},
   "source": [
    "### Fitting the training data into each ML model and Getting the Performance of each Machine learning model by Evaluation Methods"
   ]
  },
  {
   "cell_type": "code",
   "execution_count": 70,
   "id": "d911128c-9cdb-49ec-8aab-a8b8f6c59d58",
   "metadata": {},
   "outputs": [
    {
     "name": "stdout",
     "output_type": "stream",
     "text": [
      "Logistic Regression:\n",
      "  Accuracy: 0.98\n",
      "  Precision: 0.73\n",
      "  Recall: 0.52\n",
      "  F1-score: 0.53\n",
      "\n",
      "Random Forest:\n",
      "  Accuracy: 0.97\n",
      "  Precision: 0.62\n",
      "  Recall: 0.58\n",
      "  F1-score: 0.60\n",
      "\n",
      "Decision Tree:\n",
      "  Accuracy: 0.97\n",
      "  Precision: 0.64\n",
      "  Recall: 0.61\n",
      "  F1-score: 0.62\n",
      "\n",
      "K-Nearest Neighbors:\n",
      "  Accuracy: 0.98\n",
      "  Precision: 0.71\n",
      "  Recall: 0.52\n",
      "  F1-score: 0.53\n",
      "\n",
      "Support Vector Machine:\n",
      "  Accuracy: 0.98\n",
      "  Precision: 0.49\n",
      "  Recall: 0.50\n",
      "  F1-score: 0.49\n",
      "\n"
     ]
    }
   ],
   "source": [
    "metrics = {}\n",
    "\n",
    "for model_name, model in models.items():\n",
    "    model.fit(X_train, y_train)\n",
    "    y_pred = model.predict(X_test)\n",
    "    accuracy = accuracy_score(y_test, y_pred)\n",
    "    precision = precision_score(y_test, y_pred, average='macro', zero_division=0)\n",
    "    recall = recall_score(y_test, y_pred, average='macro', zero_division=0)\n",
    "    f1 = f1_score(y_test, y_pred, average='macro', zero_division=0)\n",
    "    \n",
    "    metrics[model_name] = {\n",
    "        'Accuracy': accuracy,\n",
    "        'Precision': precision,\n",
    "        'Recall': recall,\n",
    "        'F1-score': f1\n",
    "    }\n",
    "\n",
    "for model_name, model_metrics in metrics.items():\n",
    "    print(f\"{model_name}:\")\n",
    "    for metric_name, value in model_metrics.items():\n",
    "        print(f\"  {metric_name}: {value:.2f}\")\n",
    "    print()"
   ]
  },
  {
   "cell_type": "markdown",
   "id": "682e981e-8778-41f1-977c-695a2e635445",
   "metadata": {},
   "source": [
    "### verifying whether the machine learning model is overfit or underfit"
   ]
  },
  {
   "cell_type": "code",
   "execution_count": 72,
   "id": "4c63d9c3-17e4-4397-8194-5cf06833fb10",
   "metadata": {},
   "outputs": [
    {
     "name": "stdout",
     "output_type": "stream",
     "text": [
      "Logistic Regression:\n",
      "  Training Accuracy: 0.9792875\n",
      "  Validation Accuracy: 0.9778\n",
      "  Bias-Variance Status: Well-Balanced\n",
      "\n",
      "Random Forest:\n",
      "  Training Accuracy: 0.99125\n",
      "  Validation Accuracy: 0.9712\n",
      "  Bias-Variance Status: Well-Balanced\n",
      "\n",
      "Decision Tree:\n",
      "  Training Accuracy: 0.99125\n",
      "  Validation Accuracy: 0.9682\n",
      "  Bias-Variance Status: Well-Balanced\n",
      "\n",
      "K-Nearest Neighbors:\n",
      "  Training Accuracy: 0.98055\n",
      "  Validation Accuracy: 0.976\n",
      "  Bias-Variance Status: Well-Balanced\n",
      "\n",
      "Support Vector Machine:\n",
      "  Training Accuracy: 0.979175\n",
      "  Validation Accuracy: 0.9773\n",
      "  Bias-Variance Status: Well-Balanced\n",
      "\n"
     ]
    }
   ],
   "source": [
    "metrics = {}\n",
    "\n",
    "for model_name, model in models.items():\n",
    "    model.fit(X_train, y_train)\n",
    "    train_accuracy = accuracy_score(y_train, model.predict(X_train))\n",
    "    val_accuracy = accuracy_score(y_val, model.predict(X_val))\n",
    "    \n",
    "    if train_accuracy > val_accuracy + 0.1:  \n",
    "        bias_variance_status = \"High Variance (Overfitting)\"\n",
    "    elif train_accuracy < 0.7 and val_accuracy < 0.7: \n",
    "        bias_variance_status = \"High Bias (Underfitting)\"\n",
    "    else:\n",
    "        bias_variance_status = \"Well-Balanced\"\n",
    "\n",
    "    metrics[model_name] = {\n",
    "        'Training Accuracy': train_accuracy,\n",
    "        'Validation Accuracy': val_accuracy,\n",
    "        'Bias-Variance Status': bias_variance_status\n",
    "    }\n",
    "\n",
    "\n",
    "for model_name, model_metrics in metrics.items():\n",
    "    print(f\"{model_name}:\")\n",
    "    for metric_name, value in model_metrics.items():\n",
    "        print(f\"  {metric_name}: {value}\")\n",
    "    print()"
   ]
  },
  {
   "cell_type": "markdown",
   "id": "38148eac-e454-47c8-ae9a-8379f72802ff",
   "metadata": {},
   "source": [
    "## predict click probability By using ML model"
   ]
  },
  {
   "cell_type": "code",
   "execution_count": 74,
   "id": "400022e9-ba2e-4ab1-8361-04cefb8e196a",
   "metadata": {},
   "outputs": [
    {
     "data": {
      "text/html": [
       "<style>#sk-container-id-1 {\n",
       "  /* Definition of color scheme common for light and dark mode */\n",
       "  --sklearn-color-text: black;\n",
       "  --sklearn-color-line: gray;\n",
       "  /* Definition of color scheme for unfitted estimators */\n",
       "  --sklearn-color-unfitted-level-0: #fff5e6;\n",
       "  --sklearn-color-unfitted-level-1: #f6e4d2;\n",
       "  --sklearn-color-unfitted-level-2: #ffe0b3;\n",
       "  --sklearn-color-unfitted-level-3: chocolate;\n",
       "  /* Definition of color scheme for fitted estimators */\n",
       "  --sklearn-color-fitted-level-0: #f0f8ff;\n",
       "  --sklearn-color-fitted-level-1: #d4ebff;\n",
       "  --sklearn-color-fitted-level-2: #b3dbfd;\n",
       "  --sklearn-color-fitted-level-3: cornflowerblue;\n",
       "\n",
       "  /* Specific color for light theme */\n",
       "  --sklearn-color-text-on-default-background: var(--sg-text-color, var(--theme-code-foreground, var(--jp-content-font-color1, black)));\n",
       "  --sklearn-color-background: var(--sg-background-color, var(--theme-background, var(--jp-layout-color0, white)));\n",
       "  --sklearn-color-border-box: var(--sg-text-color, var(--theme-code-foreground, var(--jp-content-font-color1, black)));\n",
       "  --sklearn-color-icon: #696969;\n",
       "\n",
       "  @media (prefers-color-scheme: dark) {\n",
       "    /* Redefinition of color scheme for dark theme */\n",
       "    --sklearn-color-text-on-default-background: var(--sg-text-color, var(--theme-code-foreground, var(--jp-content-font-color1, white)));\n",
       "    --sklearn-color-background: var(--sg-background-color, var(--theme-background, var(--jp-layout-color0, #111)));\n",
       "    --sklearn-color-border-box: var(--sg-text-color, var(--theme-code-foreground, var(--jp-content-font-color1, white)));\n",
       "    --sklearn-color-icon: #878787;\n",
       "  }\n",
       "}\n",
       "\n",
       "#sk-container-id-1 {\n",
       "  color: var(--sklearn-color-text);\n",
       "}\n",
       "\n",
       "#sk-container-id-1 pre {\n",
       "  padding: 0;\n",
       "}\n",
       "\n",
       "#sk-container-id-1 input.sk-hidden--visually {\n",
       "  border: 0;\n",
       "  clip: rect(1px 1px 1px 1px);\n",
       "  clip: rect(1px, 1px, 1px, 1px);\n",
       "  height: 1px;\n",
       "  margin: -1px;\n",
       "  overflow: hidden;\n",
       "  padding: 0;\n",
       "  position: absolute;\n",
       "  width: 1px;\n",
       "}\n",
       "\n",
       "#sk-container-id-1 div.sk-dashed-wrapped {\n",
       "  border: 1px dashed var(--sklearn-color-line);\n",
       "  margin: 0 0.4em 0.5em 0.4em;\n",
       "  box-sizing: border-box;\n",
       "  padding-bottom: 0.4em;\n",
       "  background-color: var(--sklearn-color-background);\n",
       "}\n",
       "\n",
       "#sk-container-id-1 div.sk-container {\n",
       "  /* jupyter's `normalize.less` sets `[hidden] { display: none; }`\n",
       "     but bootstrap.min.css set `[hidden] { display: none !important; }`\n",
       "     so we also need the `!important` here to be able to override the\n",
       "     default hidden behavior on the sphinx rendered scikit-learn.org.\n",
       "     See: https://github.com/scikit-learn/scikit-learn/issues/21755 */\n",
       "  display: inline-block !important;\n",
       "  position: relative;\n",
       "}\n",
       "\n",
       "#sk-container-id-1 div.sk-text-repr-fallback {\n",
       "  display: none;\n",
       "}\n",
       "\n",
       "div.sk-parallel-item,\n",
       "div.sk-serial,\n",
       "div.sk-item {\n",
       "  /* draw centered vertical line to link estimators */\n",
       "  background-image: linear-gradient(var(--sklearn-color-text-on-default-background), var(--sklearn-color-text-on-default-background));\n",
       "  background-size: 2px 100%;\n",
       "  background-repeat: no-repeat;\n",
       "  background-position: center center;\n",
       "}\n",
       "\n",
       "/* Parallel-specific style estimator block */\n",
       "\n",
       "#sk-container-id-1 div.sk-parallel-item::after {\n",
       "  content: \"\";\n",
       "  width: 100%;\n",
       "  border-bottom: 2px solid var(--sklearn-color-text-on-default-background);\n",
       "  flex-grow: 1;\n",
       "}\n",
       "\n",
       "#sk-container-id-1 div.sk-parallel {\n",
       "  display: flex;\n",
       "  align-items: stretch;\n",
       "  justify-content: center;\n",
       "  background-color: var(--sklearn-color-background);\n",
       "  position: relative;\n",
       "}\n",
       "\n",
       "#sk-container-id-1 div.sk-parallel-item {\n",
       "  display: flex;\n",
       "  flex-direction: column;\n",
       "}\n",
       "\n",
       "#sk-container-id-1 div.sk-parallel-item:first-child::after {\n",
       "  align-self: flex-end;\n",
       "  width: 50%;\n",
       "}\n",
       "\n",
       "#sk-container-id-1 div.sk-parallel-item:last-child::after {\n",
       "  align-self: flex-start;\n",
       "  width: 50%;\n",
       "}\n",
       "\n",
       "#sk-container-id-1 div.sk-parallel-item:only-child::after {\n",
       "  width: 0;\n",
       "}\n",
       "\n",
       "/* Serial-specific style estimator block */\n",
       "\n",
       "#sk-container-id-1 div.sk-serial {\n",
       "  display: flex;\n",
       "  flex-direction: column;\n",
       "  align-items: center;\n",
       "  background-color: var(--sklearn-color-background);\n",
       "  padding-right: 1em;\n",
       "  padding-left: 1em;\n",
       "}\n",
       "\n",
       "\n",
       "/* Toggleable style: style used for estimator/Pipeline/ColumnTransformer box that is\n",
       "clickable and can be expanded/collapsed.\n",
       "- Pipeline and ColumnTransformer use this feature and define the default style\n",
       "- Estimators will overwrite some part of the style using the `sk-estimator` class\n",
       "*/\n",
       "\n",
       "/* Pipeline and ColumnTransformer style (default) */\n",
       "\n",
       "#sk-container-id-1 div.sk-toggleable {\n",
       "  /* Default theme specific background. It is overwritten whether we have a\n",
       "  specific estimator or a Pipeline/ColumnTransformer */\n",
       "  background-color: var(--sklearn-color-background);\n",
       "}\n",
       "\n",
       "/* Toggleable label */\n",
       "#sk-container-id-1 label.sk-toggleable__label {\n",
       "  cursor: pointer;\n",
       "  display: block;\n",
       "  width: 100%;\n",
       "  margin-bottom: 0;\n",
       "  padding: 0.5em;\n",
       "  box-sizing: border-box;\n",
       "  text-align: center;\n",
       "}\n",
       "\n",
       "#sk-container-id-1 label.sk-toggleable__label-arrow:before {\n",
       "  /* Arrow on the left of the label */\n",
       "  content: \"▸\";\n",
       "  float: left;\n",
       "  margin-right: 0.25em;\n",
       "  color: var(--sklearn-color-icon);\n",
       "}\n",
       "\n",
       "#sk-container-id-1 label.sk-toggleable__label-arrow:hover:before {\n",
       "  color: var(--sklearn-color-text);\n",
       "}\n",
       "\n",
       "/* Toggleable content - dropdown */\n",
       "\n",
       "#sk-container-id-1 div.sk-toggleable__content {\n",
       "  max-height: 0;\n",
       "  max-width: 0;\n",
       "  overflow: hidden;\n",
       "  text-align: left;\n",
       "  /* unfitted */\n",
       "  background-color: var(--sklearn-color-unfitted-level-0);\n",
       "}\n",
       "\n",
       "#sk-container-id-1 div.sk-toggleable__content.fitted {\n",
       "  /* fitted */\n",
       "  background-color: var(--sklearn-color-fitted-level-0);\n",
       "}\n",
       "\n",
       "#sk-container-id-1 div.sk-toggleable__content pre {\n",
       "  margin: 0.2em;\n",
       "  border-radius: 0.25em;\n",
       "  color: var(--sklearn-color-text);\n",
       "  /* unfitted */\n",
       "  background-color: var(--sklearn-color-unfitted-level-0);\n",
       "}\n",
       "\n",
       "#sk-container-id-1 div.sk-toggleable__content.fitted pre {\n",
       "  /* unfitted */\n",
       "  background-color: var(--sklearn-color-fitted-level-0);\n",
       "}\n",
       "\n",
       "#sk-container-id-1 input.sk-toggleable__control:checked~div.sk-toggleable__content {\n",
       "  /* Expand drop-down */\n",
       "  max-height: 200px;\n",
       "  max-width: 100%;\n",
       "  overflow: auto;\n",
       "}\n",
       "\n",
       "#sk-container-id-1 input.sk-toggleable__control:checked~label.sk-toggleable__label-arrow:before {\n",
       "  content: \"▾\";\n",
       "}\n",
       "\n",
       "/* Pipeline/ColumnTransformer-specific style */\n",
       "\n",
       "#sk-container-id-1 div.sk-label input.sk-toggleable__control:checked~label.sk-toggleable__label {\n",
       "  color: var(--sklearn-color-text);\n",
       "  background-color: var(--sklearn-color-unfitted-level-2);\n",
       "}\n",
       "\n",
       "#sk-container-id-1 div.sk-label.fitted input.sk-toggleable__control:checked~label.sk-toggleable__label {\n",
       "  background-color: var(--sklearn-color-fitted-level-2);\n",
       "}\n",
       "\n",
       "/* Estimator-specific style */\n",
       "\n",
       "/* Colorize estimator box */\n",
       "#sk-container-id-1 div.sk-estimator input.sk-toggleable__control:checked~label.sk-toggleable__label {\n",
       "  /* unfitted */\n",
       "  background-color: var(--sklearn-color-unfitted-level-2);\n",
       "}\n",
       "\n",
       "#sk-container-id-1 div.sk-estimator.fitted input.sk-toggleable__control:checked~label.sk-toggleable__label {\n",
       "  /* fitted */\n",
       "  background-color: var(--sklearn-color-fitted-level-2);\n",
       "}\n",
       "\n",
       "#sk-container-id-1 div.sk-label label.sk-toggleable__label,\n",
       "#sk-container-id-1 div.sk-label label {\n",
       "  /* The background is the default theme color */\n",
       "  color: var(--sklearn-color-text-on-default-background);\n",
       "}\n",
       "\n",
       "/* On hover, darken the color of the background */\n",
       "#sk-container-id-1 div.sk-label:hover label.sk-toggleable__label {\n",
       "  color: var(--sklearn-color-text);\n",
       "  background-color: var(--sklearn-color-unfitted-level-2);\n",
       "}\n",
       "\n",
       "/* Label box, darken color on hover, fitted */\n",
       "#sk-container-id-1 div.sk-label.fitted:hover label.sk-toggleable__label.fitted {\n",
       "  color: var(--sklearn-color-text);\n",
       "  background-color: var(--sklearn-color-fitted-level-2);\n",
       "}\n",
       "\n",
       "/* Estimator label */\n",
       "\n",
       "#sk-container-id-1 div.sk-label label {\n",
       "  font-family: monospace;\n",
       "  font-weight: bold;\n",
       "  display: inline-block;\n",
       "  line-height: 1.2em;\n",
       "}\n",
       "\n",
       "#sk-container-id-1 div.sk-label-container {\n",
       "  text-align: center;\n",
       "}\n",
       "\n",
       "/* Estimator-specific */\n",
       "#sk-container-id-1 div.sk-estimator {\n",
       "  font-family: monospace;\n",
       "  border: 1px dotted var(--sklearn-color-border-box);\n",
       "  border-radius: 0.25em;\n",
       "  box-sizing: border-box;\n",
       "  margin-bottom: 0.5em;\n",
       "  /* unfitted */\n",
       "  background-color: var(--sklearn-color-unfitted-level-0);\n",
       "}\n",
       "\n",
       "#sk-container-id-1 div.sk-estimator.fitted {\n",
       "  /* fitted */\n",
       "  background-color: var(--sklearn-color-fitted-level-0);\n",
       "}\n",
       "\n",
       "/* on hover */\n",
       "#sk-container-id-1 div.sk-estimator:hover {\n",
       "  /* unfitted */\n",
       "  background-color: var(--sklearn-color-unfitted-level-2);\n",
       "}\n",
       "\n",
       "#sk-container-id-1 div.sk-estimator.fitted:hover {\n",
       "  /* fitted */\n",
       "  background-color: var(--sklearn-color-fitted-level-2);\n",
       "}\n",
       "\n",
       "/* Specification for estimator info (e.g. \"i\" and \"?\") */\n",
       "\n",
       "/* Common style for \"i\" and \"?\" */\n",
       "\n",
       ".sk-estimator-doc-link,\n",
       "a:link.sk-estimator-doc-link,\n",
       "a:visited.sk-estimator-doc-link {\n",
       "  float: right;\n",
       "  font-size: smaller;\n",
       "  line-height: 1em;\n",
       "  font-family: monospace;\n",
       "  background-color: var(--sklearn-color-background);\n",
       "  border-radius: 1em;\n",
       "  height: 1em;\n",
       "  width: 1em;\n",
       "  text-decoration: none !important;\n",
       "  margin-left: 1ex;\n",
       "  /* unfitted */\n",
       "  border: var(--sklearn-color-unfitted-level-1) 1pt solid;\n",
       "  color: var(--sklearn-color-unfitted-level-1);\n",
       "}\n",
       "\n",
       ".sk-estimator-doc-link.fitted,\n",
       "a:link.sk-estimator-doc-link.fitted,\n",
       "a:visited.sk-estimator-doc-link.fitted {\n",
       "  /* fitted */\n",
       "  border: var(--sklearn-color-fitted-level-1) 1pt solid;\n",
       "  color: var(--sklearn-color-fitted-level-1);\n",
       "}\n",
       "\n",
       "/* On hover */\n",
       "div.sk-estimator:hover .sk-estimator-doc-link:hover,\n",
       ".sk-estimator-doc-link:hover,\n",
       "div.sk-label-container:hover .sk-estimator-doc-link:hover,\n",
       ".sk-estimator-doc-link:hover {\n",
       "  /* unfitted */\n",
       "  background-color: var(--sklearn-color-unfitted-level-3);\n",
       "  color: var(--sklearn-color-background);\n",
       "  text-decoration: none;\n",
       "}\n",
       "\n",
       "div.sk-estimator.fitted:hover .sk-estimator-doc-link.fitted:hover,\n",
       ".sk-estimator-doc-link.fitted:hover,\n",
       "div.sk-label-container:hover .sk-estimator-doc-link.fitted:hover,\n",
       ".sk-estimator-doc-link.fitted:hover {\n",
       "  /* fitted */\n",
       "  background-color: var(--sklearn-color-fitted-level-3);\n",
       "  color: var(--sklearn-color-background);\n",
       "  text-decoration: none;\n",
       "}\n",
       "\n",
       "/* Span, style for the box shown on hovering the info icon */\n",
       ".sk-estimator-doc-link span {\n",
       "  display: none;\n",
       "  z-index: 9999;\n",
       "  position: relative;\n",
       "  font-weight: normal;\n",
       "  right: .2ex;\n",
       "  padding: .5ex;\n",
       "  margin: .5ex;\n",
       "  width: min-content;\n",
       "  min-width: 20ex;\n",
       "  max-width: 50ex;\n",
       "  color: var(--sklearn-color-text);\n",
       "  box-shadow: 2pt 2pt 4pt #999;\n",
       "  /* unfitted */\n",
       "  background: var(--sklearn-color-unfitted-level-0);\n",
       "  border: .5pt solid var(--sklearn-color-unfitted-level-3);\n",
       "}\n",
       "\n",
       ".sk-estimator-doc-link.fitted span {\n",
       "  /* fitted */\n",
       "  background: var(--sklearn-color-fitted-level-0);\n",
       "  border: var(--sklearn-color-fitted-level-3);\n",
       "}\n",
       "\n",
       ".sk-estimator-doc-link:hover span {\n",
       "  display: block;\n",
       "}\n",
       "\n",
       "/* \"?\"-specific style due to the `<a>` HTML tag */\n",
       "\n",
       "#sk-container-id-1 a.estimator_doc_link {\n",
       "  float: right;\n",
       "  font-size: 1rem;\n",
       "  line-height: 1em;\n",
       "  font-family: monospace;\n",
       "  background-color: var(--sklearn-color-background);\n",
       "  border-radius: 1rem;\n",
       "  height: 1rem;\n",
       "  width: 1rem;\n",
       "  text-decoration: none;\n",
       "  /* unfitted */\n",
       "  color: var(--sklearn-color-unfitted-level-1);\n",
       "  border: var(--sklearn-color-unfitted-level-1) 1pt solid;\n",
       "}\n",
       "\n",
       "#sk-container-id-1 a.estimator_doc_link.fitted {\n",
       "  /* fitted */\n",
       "  border: var(--sklearn-color-fitted-level-1) 1pt solid;\n",
       "  color: var(--sklearn-color-fitted-level-1);\n",
       "}\n",
       "\n",
       "/* On hover */\n",
       "#sk-container-id-1 a.estimator_doc_link:hover {\n",
       "  /* unfitted */\n",
       "  background-color: var(--sklearn-color-unfitted-level-3);\n",
       "  color: var(--sklearn-color-background);\n",
       "  text-decoration: none;\n",
       "}\n",
       "\n",
       "#sk-container-id-1 a.estimator_doc_link.fitted:hover {\n",
       "  /* fitted */\n",
       "  background-color: var(--sklearn-color-fitted-level-3);\n",
       "}\n",
       "</style><div id=\"sk-container-id-1\" class=\"sk-top-container\"><div class=\"sk-text-repr-fallback\"><pre>RandomForestClassifier(random_state=42)</pre><b>In a Jupyter environment, please rerun this cell to show the HTML representation or trust the notebook. <br />On GitHub, the HTML representation is unable to render, please try loading this page with nbviewer.org.</b></div><div class=\"sk-container\" hidden><div class=\"sk-item\"><div class=\"sk-estimator fitted sk-toggleable\"><input class=\"sk-toggleable__control sk-hidden--visually\" id=\"sk-estimator-id-1\" type=\"checkbox\" checked><label for=\"sk-estimator-id-1\" class=\"sk-toggleable__label fitted sk-toggleable__label-arrow fitted\">&nbsp;&nbsp;RandomForestClassifier<a class=\"sk-estimator-doc-link fitted\" rel=\"noreferrer\" target=\"_blank\" href=\"https://scikit-learn.org/1.5/modules/generated/sklearn.ensemble.RandomForestClassifier.html\">?<span>Documentation for RandomForestClassifier</span></a><span class=\"sk-estimator-doc-link fitted\">i<span>Fitted</span></span></label><div class=\"sk-toggleable__content fitted\"><pre>RandomForestClassifier(random_state=42)</pre></div> </div></div></div></div>"
      ],
      "text/plain": [
       "RandomForestClassifier(random_state=42)"
      ]
     },
     "execution_count": 74,
     "metadata": {},
     "output_type": "execute_result"
    }
   ],
   "source": [
    "rf_model=models['Random Forest']\n",
    "rf_model.fit(X_train,y_train)"
   ]
  },
  {
   "cell_type": "code",
   "execution_count": 75,
   "id": "b40cb4a0-e214-4e3b-ba37-76a9c0b077d5",
   "metadata": {},
   "outputs": [],
   "source": [
    "df_test = X_test.copy()\n",
    "df_test[\"predicted_prob\"] = rf_model.predict_proba(X_test)[:,1]"
   ]
  },
  {
   "cell_type": "markdown",
   "id": "cadfc555-ca31-4f4d-851c-75f6be0163a2",
   "metadata": {},
   "source": [
    "### Sorting the data according to the predicted probability"
   ]
  },
  {
   "cell_type": "code",
   "execution_count": 77,
   "id": "75e14f1d-962f-4312-aa72-52c518da7902",
   "metadata": {},
   "outputs": [],
   "source": [
    "df_sort = df_test.sort_values(\"predicted_prob\",ascending=False)"
   ]
  },
  {
   "cell_type": "markdown",
   "id": "f316c5e7-b5d2-41ba-8854-e48e4965217f",
   "metadata": {},
   "source": [
    "### Adjusting the threshold to 0.3"
   ]
  },
  {
   "cell_type": "code",
   "execution_count": 79,
   "id": "23eebf1c-feb6-422f-ae73-91ea61af393e",
   "metadata": {},
   "outputs": [],
   "source": [
    "df_targeted = df_sort[df_sort[\"predicted_prob\"]>0.3]"
   ]
  },
  {
   "cell_type": "code",
   "execution_count": 80,
   "id": "287fb439-9e0e-4912-9642-a7919c636c99",
   "metadata": {},
   "outputs": [
    {
     "data": {
      "text/html": [
       "<div>\n",
       "<style scoped>\n",
       "    .dataframe tbody tr th:only-of-type {\n",
       "        vertical-align: middle;\n",
       "    }\n",
       "\n",
       "    .dataframe tbody tr th {\n",
       "        vertical-align: top;\n",
       "    }\n",
       "\n",
       "    .dataframe thead th {\n",
       "        text-align: right;\n",
       "    }\n",
       "</style>\n",
       "<table border=\"1\" class=\"dataframe\">\n",
       "  <thead>\n",
       "    <tr style=\"text-align: right;\">\n",
       "      <th></th>\n",
       "      <th>email_text</th>\n",
       "      <th>email_version</th>\n",
       "      <th>hour</th>\n",
       "      <th>weekday</th>\n",
       "      <th>user_country</th>\n",
       "      <th>user_past_purchases</th>\n",
       "      <th>email_opened</th>\n",
       "      <th>user_past_purchases_scaled</th>\n",
       "      <th>predicted_prob</th>\n",
       "    </tr>\n",
       "  </thead>\n",
       "  <tbody>\n",
       "    <tr>\n",
       "      <th>23686</th>\n",
       "      <td>0</td>\n",
       "      <td>1</td>\n",
       "      <td>10</td>\n",
       "      <td>4</td>\n",
       "      <td>3</td>\n",
       "      <td>8</td>\n",
       "      <td>1</td>\n",
       "      <td>0.363636</td>\n",
       "      <td>0.995000</td>\n",
       "    </tr>\n",
       "    <tr>\n",
       "      <th>15333</th>\n",
       "      <td>1</td>\n",
       "      <td>1</td>\n",
       "      <td>13</td>\n",
       "      <td>4</td>\n",
       "      <td>3</td>\n",
       "      <td>8</td>\n",
       "      <td>1</td>\n",
       "      <td>0.363636</td>\n",
       "      <td>0.947619</td>\n",
       "    </tr>\n",
       "    <tr>\n",
       "      <th>84605</th>\n",
       "      <td>1</td>\n",
       "      <td>0</td>\n",
       "      <td>3</td>\n",
       "      <td>6</td>\n",
       "      <td>3</td>\n",
       "      <td>7</td>\n",
       "      <td>1</td>\n",
       "      <td>0.318182</td>\n",
       "      <td>0.920000</td>\n",
       "    </tr>\n",
       "    <tr>\n",
       "      <th>28601</th>\n",
       "      <td>1</td>\n",
       "      <td>1</td>\n",
       "      <td>12</td>\n",
       "      <td>6</td>\n",
       "      <td>3</td>\n",
       "      <td>2</td>\n",
       "      <td>1</td>\n",
       "      <td>0.090909</td>\n",
       "      <td>0.912000</td>\n",
       "    </tr>\n",
       "    <tr>\n",
       "      <th>13904</th>\n",
       "      <td>1</td>\n",
       "      <td>1</td>\n",
       "      <td>12</td>\n",
       "      <td>6</td>\n",
       "      <td>3</td>\n",
       "      <td>2</td>\n",
       "      <td>1</td>\n",
       "      <td>0.090909</td>\n",
       "      <td>0.912000</td>\n",
       "    </tr>\n",
       "  </tbody>\n",
       "</table>\n",
       "</div>"
      ],
      "text/plain": [
       "       email_text  email_version  hour  weekday  user_country  \\\n",
       "23686           0              1    10        4             3   \n",
       "15333           1              1    13        4             3   \n",
       "84605           1              0     3        6             3   \n",
       "28601           1              1    12        6             3   \n",
       "13904           1              1    12        6             3   \n",
       "\n",
       "       user_past_purchases  email_opened  user_past_purchases_scaled  \\\n",
       "23686                    8             1                    0.363636   \n",
       "15333                    8             1                    0.363636   \n",
       "84605                    7             1                    0.318182   \n",
       "28601                    2             1                    0.090909   \n",
       "13904                    2             1                    0.090909   \n",
       "\n",
       "       predicted_prob  \n",
       "23686        0.995000  \n",
       "15333        0.947619  \n",
       "84605        0.920000  \n",
       "28601        0.912000  \n",
       "13904        0.912000  "
      ]
     },
     "execution_count": 80,
     "metadata": {},
     "output_type": "execute_result"
    }
   ],
   "source": [
    "df_targeted.head()"
   ]
  },
  {
   "cell_type": "markdown",
   "id": "6a392cc9-7b2e-4ddc-b7f4-a339a5c2851d",
   "metadata": {},
   "source": [
    "### Email clicked rate predicted by model"
   ]
  },
  {
   "cell_type": "code",
   "execution_count": 82,
   "id": "2547c308-4108-45e7-83f4-1be9b1a777f5",
   "metadata": {},
   "outputs": [
    {
     "data": {
      "text/plain": [
       "email_opened\n",
       "1    98.93617\n",
       "0     1.06383\n",
       "Name: proportion, dtype: float64"
      ]
     },
     "execution_count": 82,
     "metadata": {},
     "output_type": "execute_result"
    }
   ],
   "source": [
    "email_opened_rate_by_model=df_targeted[\"email_opened\"].value_counts(normalize=True)*100\n",
    "email_opened_rate_by_model"
   ]
  },
  {
   "cell_type": "markdown",
   "id": "43338b61-8f2e-4d75-bc17-37e9a599c8db",
   "metadata": {},
   "source": [
    "### Old campaign CTR Ratio"
   ]
  },
  {
   "cell_type": "code",
   "execution_count": 84,
   "id": "9ec33922-96f5-45a8-8f78-6adeea28562b",
   "metadata": {},
   "outputs": [
    {
     "name": "stdout",
     "output_type": "stream",
     "text": [
      "Old Campaign CTR = 0.0212 or 2.12%\n"
     ]
    }
   ],
   "source": [
    "total_emails = len(df)\n",
    "total_clicks = df['link_clicked'].sum()\n",
    "old_ctr = total_clicks / total_emails\n",
    "print(f\"Old Campaign CTR = {old_ctr:.4f} or {old_ctr*100:.2f}%\")"
   ]
  },
  {
   "cell_type": "markdown",
   "id": "e8da752c-430c-4c37-88c6-4152de65738d",
   "metadata": {},
   "source": [
    "### Model driven CTR ratio (predicted by the Ml model)"
   ]
  },
  {
   "cell_type": "code",
   "execution_count": 86,
   "id": "ce6090b9-c8df-4cb4-a6a4-37633c11bc62",
   "metadata": {},
   "outputs": [],
   "source": [
    "df['predicted_prob'] = rf_model.predict_proba(X)[:, 1]"
   ]
  },
  {
   "cell_type": "code",
   "execution_count": 87,
   "id": "c9814fe7-f840-452c-8980-56ddbc00c2b9",
   "metadata": {},
   "outputs": [],
   "source": [
    "df_sort = df.sort_values(\"predicted_prob\",ascending=False)"
   ]
  },
  {
   "cell_type": "code",
   "execution_count": 88,
   "id": "a9bbd1f6-599e-4c62-bd6e-6bba37437905",
   "metadata": {},
   "outputs": [],
   "source": [
    "targeted_df = df[df['predicted_prob'] > 0.3]"
   ]
  },
  {
   "cell_type": "code",
   "execution_count": 89,
   "id": "da154ce3-5b1a-4a87-aa19-e3e7bfeace85",
   "metadata": {},
   "outputs": [
    {
     "name": "stdout",
     "output_type": "stream",
     "text": [
      "Model-Driven CTR = 0.5999 or 59.99%\n"
     ]
    }
   ],
   "source": [
    "model_emails_sent = len(targeted_df)\n",
    "model_clicks = targeted_df['link_clicked'].sum()\n",
    "new_ctr = model_clicks / model_emails_sent\n",
    "print(f\"Model-Driven CTR = {new_ctr:.4f} or {new_ctr*100:.2f}%\")"
   ]
  },
  {
   "cell_type": "markdown",
   "id": "d1e9b6c7-cc8b-42c7-ae51-447002b4c612",
   "metadata": {},
   "source": [
    "### Creating the control and treatment groups"
   ]
  },
  {
   "cell_type": "code",
   "execution_count": 91,
   "id": "a993d6c8-d2fa-4640-94a8-81fe39e15789",
   "metadata": {},
   "outputs": [],
   "source": [
    "n_total =len(df_sort)\n",
    "n_group = int(0.3*n_total)\n",
    "treatment_group = df_sort.head(n_group).copy()"
   ]
  },
  {
   "cell_type": "code",
   "execution_count": 92,
   "id": "ee97203f-0d6a-40de-8928-8e75767e9f86",
   "metadata": {},
   "outputs": [],
   "source": [
    "control_group = df.sample(n=n_group, random_state=42).copy()"
   ]
  },
  {
   "cell_type": "markdown",
   "id": "68b15b1a-db4a-4fd2-91da-fd712f89a3c1",
   "metadata": {},
   "source": [
    "### Measuring CTR for each group"
   ]
  },
  {
   "cell_type": "code",
   "execution_count": 155,
   "id": "b91f6ad2-9fa3-440e-8cd3-bb7001948633",
   "metadata": {},
   "outputs": [
    {
     "name": "stdout",
     "output_type": "stream",
     "text": [
      "Control Group\n",
      "Emails Sent: 30000\n",
      "Clicks: 674\n",
      "CTR: 0.0225 (2.25%)\n",
      "\n",
      "Treatment Group\n",
      "Emails Sent: 30000\n",
      "Clicks: 2076\n",
      "CTR: 0.0692 (6.92%)\n",
      "\n"
     ]
    }
   ],
   "source": [
    "def get_ctr(group, group_name):\n",
    "    emails_sent = len(group)\n",
    "    clicks = group['link_clicked'].sum()\n",
    "    ctr = clicks / emails_sent\n",
    "\n",
    "    print(f\"{group_name} Group\")\n",
    "    print(f\"Emails Sent: {emails_sent}\")\n",
    "    print(f\"Clicks: {clicks}\")\n",
    "    print(f\"CTR: {ctr:.4f} ({ctr*100:.2f}%)\\n\")\n",
    "    return ctr\n",
    "\n",
    "# Compute CTRs\n",
    "ctr_control = get_ctr(control_group, \"Control\")\n",
    "ctr_treatment = get_ctr(treatment_group, \"Treatment\")\n"
   ]
  },
  {
   "cell_type": "markdown",
   "id": "14b46ff8-b289-45a0-a1f8-7f1b4e109889",
   "metadata": {},
   "source": [
    "### Conducting hypothesis test (Z-test)"
   ]
  },
  {
   "cell_type": "code",
   "execution_count": 161,
   "id": "7de7a9cb-004a-46db-8582-16f5f8acb3db",
   "metadata": {},
   "outputs": [
    {
     "name": "stdout",
     "output_type": "stream",
     "text": [
      "Z-statistic: 27.3697\n",
      "P-value: 0.0000\n",
      "Result is statistically significant — Treatment group performs better!\n"
     ]
    }
   ],
   "source": [
    "from statsmodels.stats.proportion import proportions_ztest\n",
    "\n",
    "count = np.array([treatment_group['link_clicked'].sum(), control_group['link_clicked'].sum()])\n",
    "nobs = np.array([len(treatment_group), len(control_group)])\n",
    "\n",
    "z_stat, p_val = proportions_ztest(count, nobs)\n",
    "\n",
    "print(f\"Z-statistic: {z_stat:.4f}\")\n",
    "print(f\"P-value: {p_val:.4f}\")\n",
    "\n",
    "if p_val < 0.05:\n",
    "    print(\"Result is statistically significant — Treatment group performs better!\")\n",
    "else:\n",
    "    print(\" No statistically significant difference — cannot conclude treatment is better.\")\n"
   ]
  },
  {
   "cell_type": "code",
   "execution_count": null,
   "id": "007cffb7-2724-488b-a992-fd6640d7e43d",
   "metadata": {},
   "outputs": [],
   "source": []
  },
  {
   "cell_type": "markdown",
   "id": "9ba66adb-337b-4dc7-9bc9-a5837a41f763",
   "metadata": {},
   "source": [
    "## Observations"
   ]
  },
  {
   "cell_type": "raw",
   "id": "e4fd799b-3687-49d9-8e1f-0babb5e7ed98",
   "metadata": {},
   "source": [
    "## Project Objective\n",
    "\n",
    "This case study involves building a machine learning solution using a provided dataset. The goal is to demonstrate a complete ML pipeline, including data preprocessing, exploratory data analysis, model development, and performance evaluation. The dataset and use case were provided by Quantacus.Ai as part of the internship selection process.\n",
    "\n",
    "## Tools and Libraries Used\n",
    " \n",
    "- Pandas for data manipulation  \n",
    "- NumPy for numerical operations  \n",
    "- Matplotlib and Seaborn for data visualization  \n",
    "- Scikit-learn for preprocessing, model training, and evaluation  \n",
    "- XGBoost or LightGBM for gradient boosting (if used)  \n",
    "- Joblib or Pickle for model saving (if applicable)    \n",
    "\n",
    "## Approach and Methodology\n",
    "\n",
    "The solution was developed in the following phases:\n",
    "\n",
    "### 1. Data Exploration  \n",
    "- Loaded the dataset and examined structure, data types, and null values  \n",
    "- Generated summary statistics  \n",
    "- Visualized key relationships and distributions to guide preprocessing  \n",
    "\n",
    "### 2. Data Preprocessing  \n",
    "- Treated missing values and outliers where necessary  \n",
    "- Applied encoding to categorical variables using label or one-hot encoding  \n",
    "- Scaled or normalized features for better model performance  \n",
    "\n",
    "### 3. Feature Engineering  \n",
    "- Identified the most relevant features based on domain knowledge and correlation  \n",
    "- Used Recursive Feature Elimination (RFE) for feature selection where appropriate  \n",
    "\n",
    "### 4. Model Selection and Training  \n",
    "- Built and evaluated baseline models: Logistic Regression, Decision Tree, Random Forest, Gradient Boosting  \n",
    "- Tuned hyperparameters using cross-validation with GridSearchCV or RandomizedSearchCV  \n",
    "\n",
    "### 5. Model Evaluation  \n",
    "- Assessed performance using multiple evaluation metrics:  \n",
    "  - Accuracy  \n",
    "  - Precision  \n",
    "  - Recall  \n",
    "  - F1-Score  \n",
    "  - ROC-AUC  \n",
    "- Used confusion matrix and classification report to visualize results  \n",
    "\n",
    "## Model Summary\n",
    "\n",
    "- Best Performing Model: [Insert model name here, e.g., XGBoost Classifier]  \n",
    "- Final Accuracy: [Insert value, e.g., 82.3 percent]  \n",
    "- Evaluation Metrics:  \n",
    "  - Precision: [Insert value]  \n",
    "  - Recall: [Insert value]  \n",
    "  - F1-Score: [Insert value]  \n",
    "  - ROC-AUC Score: [Insert value]  \n",
    " \n",
    "## Contact\n",
    "\n",
    "Name: Lokam Vamsi Krishna  \n",
    "Email: lokamvamsikrishne@gmail.com  \n",
    "GitHub: [Insert your GitHub profile link here]"
   ]
  },
  {
   "cell_type": "code",
   "execution_count": null,
   "id": "159921c9-29ae-4373-955d-da101f7210b8",
   "metadata": {},
   "outputs": [],
   "source": []
  }
 ],
 "metadata": {
  "kernelspec": {
   "display_name": "Python [conda env:base] *",
   "language": "python",
   "name": "conda-base-py"
  },
  "language_info": {
   "codemirror_mode": {
    "name": "ipython",
    "version": 3
   },
   "file_extension": ".py",
   "mimetype": "text/x-python",
   "name": "python",
   "nbconvert_exporter": "python",
   "pygments_lexer": "ipython3",
   "version": "3.12.7"
  }
 },
 "nbformat": 4,
 "nbformat_minor": 5
}
